{
 "cells": [
  {
   "cell_type": "code",
   "execution_count": 1,
   "metadata": {},
   "outputs": [],
   "source": [
    "# Dependencies\n",
    "# ----------------------------------\n",
    "from sqlalchemy import create_engine\n",
    "from sqlalchemy.ext.declarative import declarative_base\n",
    "from sqlalchemy import MetaData\n",
    "Base = declarative_base()\n",
    "import numpy as np"
   ]
  },
  {
   "cell_type": "code",
   "execution_count": 2,
   "metadata": {},
   "outputs": [],
   "source": [
    "from sqlalchemy import Column, Integer, String, Float"
   ]
  },
  {
   "cell_type": "code",
   "execution_count": 3,
   "metadata": {},
   "outputs": [],
   "source": [
    "# Create Shark Attack Classes\n",
    "# ----------------------------------\n",
    "class Shark_Attacks(Base):\n",
    "    __tablename__ = 'shark_attacks'\n",
    "    id = Column(primary_key=True)\n",
    "    year = Column(Integer)\n",
    "    type = Column(String(255))\n",
    "    country = Column(String(255))\n",
    "    area = Column(String(255))\n",
    "    activity = Column(String(255))\n",
    "    fatal = Column(String(1))\n",
    "    species = Column(String(255))"
   ]
  },
  {
   "cell_type": "code",
   "execution_count": 4,
   "metadata": {},
   "outputs": [],
   "source": [
    "# Create Database Connection\n",
    "database_path = \"shark_attacks.sqlite\"\n",
    "engine = create_engine(f\"sqlite:///{database_path}\")\n",
    "conn = engine.connect()"
   ]
  },
  {
   "cell_type": "code",
   "execution_count": 10,
   "metadata": {},
   "outputs": [],
   "source": [
    "import pandas as pd\n",
    "csv_path = \"./shark_attacks.csv\"\n",
    "df = pd.read_csv(\"./shark_attacks.csv\")\n",
    "shark_df = df"
   ]
  },
  {
   "cell_type": "code",
   "execution_count": 11,
   "metadata": {},
   "outputs": [],
   "source": [
    "#shark_df.dtypes"
   ]
  },
  {
   "cell_type": "code",
   "execution_count": 12,
   "metadata": {},
   "outputs": [],
   "source": [
    "# shark_df['Year'] = shark_df['Year'].astype(np.int64)"
   ]
  },
  {
   "cell_type": "code",
   "execution_count": 13,
   "metadata": {},
   "outputs": [
    {
     "data": {
      "text/html": [
       "<div>\n",
       "<style scoped>\n",
       "    .dataframe tbody tr th:only-of-type {\n",
       "        vertical-align: middle;\n",
       "    }\n",
       "\n",
       "    .dataframe tbody tr th {\n",
       "        vertical-align: top;\n",
       "    }\n",
       "\n",
       "    .dataframe thead th {\n",
       "        text-align: right;\n",
       "    }\n",
       "</style>\n",
       "<table border=\"1\" class=\"dataframe\">\n",
       "  <thead>\n",
       "    <tr style=\"text-align: right;\">\n",
       "      <th></th>\n",
       "      <th>Id</th>\n",
       "      <th>Year</th>\n",
       "      <th>Type</th>\n",
       "      <th>Country</th>\n",
       "      <th>Area</th>\n",
       "      <th>Activity</th>\n",
       "      <th>Fatal</th>\n",
       "      <th>Species</th>\n",
       "    </tr>\n",
       "  </thead>\n",
       "  <tbody>\n",
       "    <tr>\n",
       "      <th>0</th>\n",
       "      <td>1</td>\n",
       "      <td>2020</td>\n",
       "      <td>Unprovoked</td>\n",
       "      <td>USA</td>\n",
       "      <td>Maui</td>\n",
       "      <td>Stand-Up Paddle boarding</td>\n",
       "      <td>N</td>\n",
       "      <td>Tiger shark</td>\n",
       "    </tr>\n",
       "    <tr>\n",
       "      <th>1</th>\n",
       "      <td>2</td>\n",
       "      <td>2020</td>\n",
       "      <td>Unprovoked</td>\n",
       "      <td>AUSTRALIA</td>\n",
       "      <td>New South Wales</td>\n",
       "      <td>Surfing</td>\n",
       "      <td>N</td>\n",
       "      <td>\"A small shark\"</td>\n",
       "    </tr>\n",
       "    <tr>\n",
       "      <th>2</th>\n",
       "      <td>3</td>\n",
       "      <td>2020</td>\n",
       "      <td>Unprovoked</td>\n",
       "      <td>NEW ZEALAND</td>\n",
       "      <td>Southland</td>\n",
       "      <td>Surfing</td>\n",
       "      <td>N</td>\n",
       "      <td>Broadnose seven gill shark?</td>\n",
       "    </tr>\n",
       "    <tr>\n",
       "      <th>3</th>\n",
       "      <td>4</td>\n",
       "      <td>2020</td>\n",
       "      <td>Unprovoked</td>\n",
       "      <td>AUSTRALIA</td>\n",
       "      <td>Queensland</td>\n",
       "      <td>Swimming</td>\n",
       "      <td>N</td>\n",
       "      <td>Lemon shark</td>\n",
       "    </tr>\n",
       "    <tr>\n",
       "      <th>4</th>\n",
       "      <td>5</td>\n",
       "      <td>2020</td>\n",
       "      <td>Unprovoked</td>\n",
       "      <td>AUSTRALIA</td>\n",
       "      <td>Western Australia</td>\n",
       "      <td>Scuba diving</td>\n",
       "      <td>Y</td>\n",
       "      <td>White shark</td>\n",
       "    </tr>\n",
       "  </tbody>\n",
       "</table>\n",
       "</div>"
      ],
      "text/plain": [
       "   Id  Year        Type      Country               Area  \\\n",
       "0   1  2020  Unprovoked          USA               Maui   \n",
       "1   2  2020  Unprovoked    AUSTRALIA    New South Wales   \n",
       "2   3  2020  Unprovoked  NEW ZEALAND          Southland   \n",
       "3   4  2020  Unprovoked    AUSTRALIA         Queensland   \n",
       "4   5  2020  Unprovoked    AUSTRALIA  Western Australia   \n",
       "\n",
       "                   Activity Fatal                      Species  \n",
       "0  Stand-Up Paddle boarding     N                  Tiger shark  \n",
       "1                   Surfing     N              \"A small shark\"  \n",
       "2                   Surfing     N  Broadnose seven gill shark?  \n",
       "3                  Swimming     N                  Lemon shark  \n",
       "4              Scuba diving     Y                  White shark  "
      ]
     },
     "execution_count": 13,
     "metadata": {},
     "output_type": "execute_result"
    }
   ],
   "source": [
    "shark_df.head()"
   ]
  },
  {
   "cell_type": "code",
   "execution_count": 14,
   "metadata": {},
   "outputs": [],
   "source": [
    "shark_df.to_sql('shark_attacks', con=engine,  if_exists='replace', index=False)"
   ]
  },
  {
   "cell_type": "code",
   "execution_count": 15,
   "metadata": {},
   "outputs": [],
   "source": [
    "# Create a \"Metadata\" Layer That Abstracts our SQL Database\n",
    "# ----------------------------------\n",
    "Base.metadata.create_all(engine)\n",
    "\n",
    "# Use this to clear out the db\n",
    "# ----------------------------------\n",
    "# Base.metadata.drop_all(engine)"
   ]
  },
  {
   "cell_type": "code",
   "execution_count": 16,
   "metadata": {},
   "outputs": [],
   "source": [
    "# Create a Session Object to Connect to DB\n",
    "# ----------------------------------\n",
    "from sqlalchemy.orm import Session\n",
    "session = Session(bind=engine)"
   ]
  },
  {
   "cell_type": "code",
   "execution_count": 17,
   "metadata": {},
   "outputs": [
    {
     "name": "stdout",
     "output_type": "stream",
     "text": [
      "['shark_attacks']\n",
      "[{'name': 'Id', 'type': BIGINT(), 'nullable': True, 'default': None, 'autoincrement': 'auto', 'primary_key': 0}, {'name': 'Year', 'type': BIGINT(), 'nullable': True, 'default': None, 'autoincrement': 'auto', 'primary_key': 0}, {'name': 'Type', 'type': TEXT(), 'nullable': True, 'default': None, 'autoincrement': 'auto', 'primary_key': 0}, {'name': 'Country', 'type': TEXT(), 'nullable': True, 'default': None, 'autoincrement': 'auto', 'primary_key': 0}, {'name': 'Area', 'type': TEXT(), 'nullable': True, 'default': None, 'autoincrement': 'auto', 'primary_key': 0}, {'name': 'Activity', 'type': TEXT(), 'nullable': True, 'default': None, 'autoincrement': 'auto', 'primary_key': 0}, {'name': 'Fatal', 'type': TEXT(), 'nullable': True, 'default': None, 'autoincrement': 'auto', 'primary_key': 0}, {'name': 'Species', 'type': TEXT(), 'nullable': True, 'default': None, 'autoincrement': 'auto', 'primary_key': 0}]\n"
     ]
    }
   ],
   "source": [
    "from sqlalchemy import inspect\n",
    "from sqlalchemy import Column\n",
    "inspector = inspect(engine)\n",
    "\n",
    "\n",
    "#Get table information\n",
    "print(inspector.get_table_names())\n",
    "table = inspector.get_table_names()\n",
    "\n",
    "#Get column information\n",
    "print(inspector.get_columns('shark_attacks'))"
   ]
  },
  {
   "cell_type": "code",
   "execution_count": 18,
   "metadata": {},
   "outputs": [
    {
     "name": "stdout",
     "output_type": "stream",
     "text": [
      "shark_attacks\n",
      "Id\n",
      "Year\n",
      "Type\n",
      "Country\n",
      "Area\n",
      "Activity\n",
      "Fatal\n",
      "Species\n"
     ]
    }
   ],
   "source": [
    "m = MetaData()\n",
    "m.reflect(engine)\n",
    "for table in m.tables.values():\n",
    "    print(table.name)\n",
    "    shark_attacks_table = table.name\n",
    "    for column in table.c:\n",
    "        print(column.name)\n",
    "    "
   ]
  },
  {
   "cell_type": "code",
   "execution_count": 19,
   "metadata": {},
   "outputs": [
    {
     "name": "stdout",
     "output_type": "stream",
     "text": [
      "(1, 2020, 'Unprovoked', 'USA', 'Maui', 'Stand-Up Paddle boarding', 'N', 'Tiger shark')\n",
      "(2, 2020, 'Unprovoked', 'AUSTRALIA', 'New South Wales', 'Surfing', 'N', '\"A small shark\"')\n",
      "(3, 2020, 'Unprovoked', 'NEW ZEALAND', 'Southland', 'Surfing', 'N', 'Broadnose seven gill shark?')\n",
      "(4, 2020, 'Unprovoked', 'AUSTRALIA', 'Queensland', 'Swimming', 'N', 'Lemon shark')\n",
      "(5, 2020, 'Unprovoked', 'AUSTRALIA', 'Western Australia', 'Scuba diving', 'Y', 'White shark')\n",
      "(6, 2019, 'Unprovoked', 'AUSTRALIA', 'Queensland', 'Swimming', 'N', 'Shovelnose \"shark\" which is a ray, not a shark)')\n",
      "(7, 2019, 'Provoked', 'AUSTRALIA', 'New South Wales', 'Fishing', 'Y', 'White shark')\n",
      "(8, 2019, 'Provoked', 'REUNION ISLAND', 'Cilaos', 'Kayaking', 'Y', '3.4 m tiger shark')\n",
      "(9, 2019, 'Unprovoked', 'USA', 'Hawaii', 'Stand-Up Paddleboarding', 'N', \"10'-12' tiger shark\")\n",
      "(10, 2019, 'Unprovoked', 'USA', 'Florida', 'Surfing', 'N', 'Juvenile blacktip shark')\n",
      "(11, 2019, 'Provoked', 'FRENCH POLYNESIA', 'Moorea', 'Feeding sharks', 'N', \"5' blacktip shark\")\n",
      "(12, 2019, 'Unprovoked', 'USA', 'Florida', 'Surfing', 'N', \"4' to 5' blacktip shark\")\n",
      "(13, 2019, 'Watercraft', 'SOUTH AFRICA', 'Eastern Cape Province', 'Kayaking fishing', 'N', 'White shark, 4 m')\n",
      "(14, 2019, 'Unprovoked', 'REUNION ISLAND', 'Saint-Gilles', 'Snorkeling', 'Y', \"10' tiger shark\")\n",
      "(15, 2019, 'Unprovoked', 'AUSTRALIA', 'Queensland', 'Snorkeling', 'N', 'Tiger shark')\n",
      "(16, 2019, 'Provoked', 'USA', 'Florida', 'Surfing', 'N', \"4' to 5' shark\")\n",
      "(17, 2019, 'Unprovoked', 'FRENCH POLYNESIA', 'Moorea', 'Snorkeling', 'Y', 'Oceanic whitetip shark')\n",
      "(18, 2019, 'Unprovoked', 'AUSTRALIA', 'Queensland', 'Surfing', 'N', \"7' shark\")\n",
      "(19, 2019, 'Unprovoked', 'AUSTRALIA', 'New South Wales', 'Surfing', 'N', 'White shark, 3.5 m')\n",
      "(20, 2019, 'Unprovoked', 'USA', 'Guam', 'Surfing', 'N', 'Juvenile shark')\n",
      "(21, 2019, 'Provoked', 'AUSTRALIA', 'Northern Territory', 'Fishing', 'N', '1+ m shark')\n",
      "(22, 2019, 'Unprovoked', 'USA', 'Hawaii', 'Surfing', 'N', \"6' to 7' shark\")\n",
      "(23, 2019, 'Unprovoked', 'USA', 'Florida', 'Surfing', 'N', \"2' shark\")\n",
      "(24, 2019, 'Unprovoked', 'AUSTRALIA', 'Western Australia', 'Spearfishing', 'N', \"14' white shark\")\n",
      "(25, 2019, 'Unprovoked', 'USA', 'Cayman Islands', 'Spearfishing', 'N', 'Nurse shark')\n",
      "(26, 2019, 'Provoked', 'USA', 'Florida', 'Surfing', 'N', \"6.5' shark\")\n",
      "(27, 2019, 'Unprovoked', 'USA', 'Hawaii', 'Surfing', 'N', \"10' to 12' shark\")\n",
      "(28, 2019, 'Provoked', 'USA', 'North Carolina', 'Fishing', 'N', \"Blacktip shark, 5'\")\n",
      "(29, 2019, 'Unprovoked', 'USA', 'Florida', 'Surfing', 'N', 'Blacktip or Spinner shark')\n",
      "(30, 2019, 'Unprovoked', 'USA', 'Rhode Island', 'Surfing', 'N', 'Sandtiger shark')\n",
      "(31, 2019, 'Unprovoked', 'NEW ZEALAND', 'Chatham Islands', 'Scuba diving', 'N', 'White shark, 3m')\n",
      "(32, 2019, 'Unprovoked', 'USA', 'North Carolina', 'Body-surfing', 'N', 'shark pup')\n",
      "(33, 2019, 'Unprovoked', 'SOUTH AFRICA', 'Eastern Cape Province', 'Surfing', 'N', 'White shark, juvenile')\n",
      "(34, 2019, 'Unprovoked', 'AUSTRALIA', 'Queensland', 'Paddle boarding', 'N', 'Bull shark pup')\n",
      "(35, 2019, 'Unprovoked', 'USA', 'Georgia', 'Swimming', 'N', \"Bull shark, 4' to 5'\")\n",
      "(36, 2019, 'Unprovoked', 'NEW CALEDONIA', 'Noumea', 'Swimming', 'N', 'Bull shark, 3.5 m')\n",
      "(37, 2019, 'Unprovoked', 'USA', 'New Jersey', 'Body Boarding', 'N', 'Shark involvement unconfirmed but considered probable')\n",
      "(38, 2019, 'Unprovoked', 'USA', 'Hawaii', 'Surfing', 'N', \"8' shark\")\n",
      "(39, 2019, 'Unprovoked', 'AUSTRALIA', 'New South Wales', 'Spearfishing', 'N', 'Grey nurse shark, 3 m female')\n",
      "(40, 2019, 'Unprovoked', 'USA', 'Hawaii', 'Kayaking', 'N', 'Tiger shark')\n",
      "(41, 2019, 'Provoked', 'USA', 'Hawaii', 'Picking opihi', 'N', 'Tiger shark')\n",
      "(42, 2019, 'Unprovoked', 'USA', 'Hawaii', 'Swimming', 'N', 'Cookiecutter shark')\n",
      "(43, 2019, 'Provoked', 'CHINA', 'Liaoning Province', 'Diving in shark tank', 'N', 'Sand tiger shark')\n",
      "(44, 3019, 'Watercraft', 'USA', 'Hawaii', 'Paddling an outrigger canoe', 'N', \"12' shark\")\n",
      "(45, 2019, 'Unprovoked', 'AUSTRALIA', 'Queensland', 'Swimming', 'N', \"Grey reef shark, 4'\")\n",
      "(46, 2019, 'Unprovoked', 'USA', 'Florida', 'Surfing', 'N', \"4' shark\")\n",
      "(47, 2019, 'Unprovoked', 'USA', 'Hawaii', 'Swimming', 'N', 'Cookiecutter shark')\n",
      "(48, 2019, 'Unprovoked', 'USA', 'Florida', 'Boogie boarding', 'N', 'Spinner shark')\n",
      "(49, 2019, 'Provoked', 'SOUTH AFRICA', 'Eastern Cape Province', 'Fishing', 'N', '2.5 m shark')\n",
      "(50, 2019, 'Unprovoked', 'BRAZIL', 'Fernando de Noronha', 'Surfing', 'N', 'Lemon shark')\n",
      "(51, 2019, 'Unprovoked', 'USA', 'Hawaii', 'Surfing', 'N', 'Tiger shark')\n",
      "(52, 2019, 'Unprovoked', 'USA', 'Florida', 'Spearfishing', 'N', 'Bull shark')\n",
      "(53, 2019, 'Questionable', 'NEW ZEALAND', 'South Island', 'Boogie boarding', 'N', 'Reported as shark bite but injury caused by stingray')\n",
      "(54, 2019, 'Unprovoked', 'AUSTRALIA', 'Western Australia', 'Swimming', 'N', 'Wobbegong shark')\n",
      "(55, 2019, 'Provoked', 'AUSTRALIA', 'Queensland', 'Wading', 'N', 'Reported as shark attacks but injuries caused by toadfish')\n",
      "(56, 2019, 'Unprovoked', 'USA', 'California', 'Surfing', 'N', 'White shark, 4.6m')\n",
      "(57, 2018, 'Unprovoked', 'MEXICO', 'Sonora', 'Diving', 'Y', 'Tiger shark')\n",
      "(58, 2018, 'Provoked', 'AUSTRALIA', 'New South Wales', None, 'N', 'Wobbegong shark')\n",
      "(59, 2018, 'Provoked', 'NEW ZEALAND', 'North Island', 'Spearfishing', 'N', \"Mako shark, 7'\")\n",
      "(60, 2018, 'Unprovoked', 'NEW ZEALAND', 'North Island', 'Spearfishing', 'N', 'Bronze whaler 2.5m')\n",
      "(61, 2018, 'Unprovoked', 'AUSTRALIA', 'Northern Territory', 'Spearfishing', 'N', 'Reef shark x 2')\n",
      "(62, 2018, 'Unprovoked', 'SOUTH AFRICA', 'KwaZulu-Natal', 'Fishing', 'N', 'White shark, 3m')\n",
      "(63, 2018, 'Unprovoked', 'AUSTRALIA', 'Western Australia', 'Body Boarding', 'N', 'Sandtiger shark')\n",
      "(64, 2018, 'Unprovoked', 'BAHAMAS', 'Exumas', 'Swimming', 'N', 'Nurse shark')\n",
      "(65, 2018, 'Unprovoked', 'EGYPT', 'Hurghada', 'Scuba diving', 'N', 'Oceanic whitetip shark')\n",
      "(66, 2018, 'Unprovoked', 'AUSTRALIA', 'New South Wales', 'Surfing', 'N', \"5' shark\")\n",
      "(67, 2018, 'Unprovoked', 'USA', 'Florida', 'Surfing', 'N', \"3' to 4' shark\")\n",
      "(68, 2018, 'Unprovoked', 'AUSTRALIA', 'New South Wales', 'Body Surfing', 'N', 'Bull shark?')\n",
      "(69, 2018, 'Unprovoked', 'NEW ZEALAND', 'North Island', 'Surfing', 'N', 'White Shark, 3.2m to 3.5m')\n",
      "(70, 2018, 'Unprovoked', 'AUSTRALIA', 'Western Australia', 'Spearfishing', 'N', 'White shark, 5m female')\n",
      "(71, 2018, 'Unprovoked', 'USA', 'Florida', 'Surfing', 'N', 'Spinner shark')\n",
      "(72, 2018, 'Provoked', 'AUSTRALIA', 'Queensland', 'Fishing', 'N', '\"reef shark\"')\n",
      "(73, 2018, 'Unprovoked', 'USA', 'New York', 'Boogie Boarding', 'N', 'Sandtiger shark')\n",
      "(74, 2018, 'Unprovoked', 'USA', 'New York', 'Wading', 'N', 'Sandtiger shark')\n",
      "(75, 2018, 'Provoked', 'USA', 'California', 'Wading', 'N', 'Salmon shark, juvenile')\n",
      "(76, 2018, 'Unprovoked', 'BAHAMAS', 'The Exuma Cays', 'Floating', 'N', \"Nurse shark, 5'\")\n",
      "(77, 2018, 'Provoked', 'USA', 'Florida', 'Snorkeling', 'N', 'Injury most likely caused by barracuda, not a shark')\n",
      "(78, 2018, 'Boating', 'USA', 'California', 'Paddling', 'N', 'White shark')\n",
      "(79, 2018, 'Provoked', 'USA', 'Florida', 'Fishing', 'N', 'Nurse shark')\n",
      "(80, 2018, 'Unprovoked', 'AUSTRALIA', 'New South Wales', 'Surfing', 'N', '2 m shark')\n",
      "(81, 2018, 'Provoked', 'MEXICO', 'Colima', 'Free diving', 'N', 'Tiger shark, 3m')\n",
      "(82, 2018, 'Unprovoked', 'BRAZIL', 'Pernambuco', 'Swimming', 'Y', 'Tiger shark')\n",
      "(83, 2018, 'Unprovoked', 'USA', 'Florida', 'Fishing', 'N', \"Lemon shark, 3'\")\n",
      "(84, 2018, 'Unprovoked', 'USA', 'Florida', 'Walking', 'N', \"Bull shark, 6'\")\n",
      "(85, 2018, 'Provoked', 'AUSTRALIA', 'Queensland', 'Feeding sharks', 'N', 'Grey reef shark')\n",
      "(86, 2018, 'Provoked', 'AUSTRALIA', 'Westerm Australia', 'Feeding sharks', 'N', 'Tawny nurse shark, 2m')\n",
      "(87, 2018, 'Provoked', 'USA', 'Texas', 'Fishing', 'N', \"Sandtiger shark'\")\n",
      "(88, 2018, 'Unprovoked', 'COSTA RICA', 'Cocos Island', 'Scuba diving', 'N', 'Tiger shark')\n",
      "(89, 2018, 'Unprovoked', 'AUSTRALIA', 'Western Australia', 'Surfing', 'N', '3 m shark')\n",
      "(90, 2018, 'Unprovoked', 'AUSTRALIA', 'Western Australia', 'Surfing', 'N', 'White shark, 3.5 m')\n",
      "(91, 2018, 'Unprovoked', 'MALDIVES', 'Alifu Alifu Atoll', 'Fishing', 'N', 'Tiger shark')\n",
      "(92, 2018, 'Unprovoked', 'SOUTH AFRICA', 'Western Cape Province', 'Paddle-skiing', 'N', 'White shark, 2.5 m')\n",
      "(93, 2018, 'Unprovoked', 'USA', 'Hawaii', 'Body boarding', 'N', \"6' shark\")\n",
      "(94, 2018, 'Unprovoked', 'THAILAND', 'Hua Hin', 'Swimming', 'N', 'Juvenile bull shark')\n",
      "(95, 2018, 'Unprovoked', 'BAHAMAS', 'New Providence', 'Surfing', 'N', 'Tiger shark')\n",
      "(96, 2018, 'Unprovoked', 'NEW CALEDONIA', None, 'Windsurfing', 'N', '2 m shark')\n",
      "(97, 2018, 'Unprovoked', 'BAHAMAS', None, 'Swimming', 'N', 'Bull shark')\n",
      "(98, 2018, 'Unprovoked', 'SOUTH AFRICA', 'Eastern Cape Province', 'Surfing', 'N', 'White shark')\n",
      "(99, 2018, 'Unprovoked', 'USA', 'Hawaii', 'Stand-Up Paddleboarding', 'N', \"Tiger shark, 12'\")\n",
      "(100, 2018, 'Unprovoked', 'AUSTRALIA', 'Western Australia', 'Wading', 'N', 'Wobbegong shark')\n",
      "(101, 2018, 'Unprovoked', 'AUSTRALIA', 'Victoria', 'Swimming', 'N', '3.5 m shark')\n",
      "(102, 2018, 'Unprovoked', 'AUSTRALIA', 'Victoria', 'Surfing', 'N', '1.8 m shark')\n",
      "(103, 2018, 'Unprovoked', 'SOUTH AFRICA', 'KwaZulu-Natal', 'Scuba Diving', 'N', 'Blacktip shark')\n",
      "(104, 2018, 'Unprovoked', 'AUSTRALIA', 'New South Wales', 'Swimming', 'N', 'Juvenile white shark, 2.7 to 3.2 m')\n"
     ]
    }
   ],
   "source": [
    "from sqlalchemy import select\n",
    "table = m.tables['shark_attacks']\n",
    "\n",
    "#Select * from shark_attacks\n",
    "select_statement = select([table])\n",
    "res = conn.execute(select_statement)\n",
    "for row in res:\n",
    "    print(row)"
   ]
  },
  {
   "cell_type": "code",
   "execution_count": 20,
   "metadata": {},
   "outputs": [
    {
     "name": "stdout",
     "output_type": "stream",
     "text": [
      "(1, 2020, 'Unprovoked', 'USA', 'Maui', 'Stand-Up Paddle boarding', 'N', 'Tiger shark')\n",
      "(9, 2019, 'Unprovoked', 'USA', 'Hawaii', 'Stand-Up Paddleboarding', 'N', \"10'-12' tiger shark\")\n",
      "(10, 2019, 'Unprovoked', 'USA', 'Florida', 'Surfing', 'N', 'Juvenile blacktip shark')\n",
      "(12, 2019, 'Unprovoked', 'USA', 'Florida', 'Surfing', 'N', \"4' to 5' blacktip shark\")\n",
      "(16, 2019, 'Provoked', 'USA', 'Florida', 'Surfing', 'N', \"4' to 5' shark\")\n",
      "(20, 2019, 'Unprovoked', 'USA', 'Guam', 'Surfing', 'N', 'Juvenile shark')\n",
      "(22, 2019, 'Unprovoked', 'USA', 'Hawaii', 'Surfing', 'N', \"6' to 7' shark\")\n",
      "(23, 2019, 'Unprovoked', 'USA', 'Florida', 'Surfing', 'N', \"2' shark\")\n",
      "(25, 2019, 'Unprovoked', 'USA', 'Cayman Islands', 'Spearfishing', 'N', 'Nurse shark')\n",
      "(26, 2019, 'Provoked', 'USA', 'Florida', 'Surfing', 'N', \"6.5' shark\")\n",
      "(27, 2019, 'Unprovoked', 'USA', 'Hawaii', 'Surfing', 'N', \"10' to 12' shark\")\n",
      "(28, 2019, 'Provoked', 'USA', 'North Carolina', 'Fishing', 'N', \"Blacktip shark, 5'\")\n",
      "(29, 2019, 'Unprovoked', 'USA', 'Florida', 'Surfing', 'N', 'Blacktip or Spinner shark')\n",
      "(30, 2019, 'Unprovoked', 'USA', 'Rhode Island', 'Surfing', 'N', 'Sandtiger shark')\n",
      "(32, 2019, 'Unprovoked', 'USA', 'North Carolina', 'Body-surfing', 'N', 'shark pup')\n",
      "(35, 2019, 'Unprovoked', 'USA', 'Georgia', 'Swimming', 'N', \"Bull shark, 4' to 5'\")\n",
      "(37, 2019, 'Unprovoked', 'USA', 'New Jersey', 'Body Boarding', 'N', 'Shark involvement unconfirmed but considered probable')\n",
      "(38, 2019, 'Unprovoked', 'USA', 'Hawaii', 'Surfing', 'N', \"8' shark\")\n",
      "(40, 2019, 'Unprovoked', 'USA', 'Hawaii', 'Kayaking', 'N', 'Tiger shark')\n",
      "(41, 2019, 'Provoked', 'USA', 'Hawaii', 'Picking opihi', 'N', 'Tiger shark')\n",
      "(42, 2019, 'Unprovoked', 'USA', 'Hawaii', 'Swimming', 'N', 'Cookiecutter shark')\n",
      "(44, 3019, 'Watercraft', 'USA', 'Hawaii', 'Paddling an outrigger canoe', 'N', \"12' shark\")\n",
      "(46, 2019, 'Unprovoked', 'USA', 'Florida', 'Surfing', 'N', \"4' shark\")\n",
      "(47, 2019, 'Unprovoked', 'USA', 'Hawaii', 'Swimming', 'N', 'Cookiecutter shark')\n",
      "(48, 2019, 'Unprovoked', 'USA', 'Florida', 'Boogie boarding', 'N', 'Spinner shark')\n",
      "(51, 2019, 'Unprovoked', 'USA', 'Hawaii', 'Surfing', 'N', 'Tiger shark')\n",
      "(52, 2019, 'Unprovoked', 'USA', 'Florida', 'Spearfishing', 'N', 'Bull shark')\n",
      "(56, 2019, 'Unprovoked', 'USA', 'California', 'Surfing', 'N', 'White shark, 4.6m')\n",
      "(67, 2018, 'Unprovoked', 'USA', 'Florida', 'Surfing', 'N', \"3' to 4' shark\")\n",
      "(71, 2018, 'Unprovoked', 'USA', 'Florida', 'Surfing', 'N', 'Spinner shark')\n",
      "(73, 2018, 'Unprovoked', 'USA', 'New York', 'Boogie Boarding', 'N', 'Sandtiger shark')\n",
      "(74, 2018, 'Unprovoked', 'USA', 'New York', 'Wading', 'N', 'Sandtiger shark')\n",
      "(75, 2018, 'Provoked', 'USA', 'California', 'Wading', 'N', 'Salmon shark, juvenile')\n",
      "(77, 2018, 'Provoked', 'USA', 'Florida', 'Snorkeling', 'N', 'Injury most likely caused by barracuda, not a shark')\n",
      "(78, 2018, 'Boating', 'USA', 'California', 'Paddling', 'N', 'White shark')\n",
      "(79, 2018, 'Provoked', 'USA', 'Florida', 'Fishing', 'N', 'Nurse shark')\n",
      "(83, 2018, 'Unprovoked', 'USA', 'Florida', 'Fishing', 'N', \"Lemon shark, 3'\")\n",
      "(84, 2018, 'Unprovoked', 'USA', 'Florida', 'Walking', 'N', \"Bull shark, 6'\")\n",
      "(87, 2018, 'Provoked', 'USA', 'Texas', 'Fishing', 'N', \"Sandtiger shark'\")\n",
      "(93, 2018, 'Unprovoked', 'USA', 'Hawaii', 'Body boarding', 'N', \"6' shark\")\n",
      "(99, 2018, 'Unprovoked', 'USA', 'Hawaii', 'Stand-Up Paddleboarding', 'N', \"Tiger shark, 12'\")\n"
     ]
    }
   ],
   "source": [
    "#Select * from shark_attacks\n",
    "select_statement = select([table]).where(table.c.Country == 'USA')\n",
    "res = conn.execute(select_statement)\n",
    "for row in res:\n",
    "    print(row)"
   ]
  },
  {
   "cell_type": "code",
   "execution_count": 21,
   "metadata": {},
   "outputs": [
    {
     "name": "stdout",
     "output_type": "stream",
     "text": [
      "2020-10-20 21:58:06,294 INFO sqlalchemy.engine.base.Engine SELECT CAST('test plain returns' AS VARCHAR(60)) AS anon_1\n",
      "2020-10-20 21:58:06,295 INFO sqlalchemy.engine.base.Engine ()\n",
      "2020-10-20 21:58:06,296 INFO sqlalchemy.engine.base.Engine SELECT CAST('test unicode returns' AS VARCHAR(60)) AS anon_1\n",
      "2020-10-20 21:58:06,297 INFO sqlalchemy.engine.base.Engine ()\n"
     ]
    }
   ],
   "source": [
    "#Save dataframe to an sqlite file\n",
    "engine = create_engine('sqlite:///shark_attacks.sqlite', echo=True)\n",
    "sqlite_connection = engine.connect()\n"
   ]
  },
  {
   "cell_type": "code",
   "execution_count": 22,
   "metadata": {},
   "outputs": [],
   "source": [
    "#Set variable to sql table name \n",
    "# sqlite_table = \"shark_attacks\"\n",
    "# shark_df.to_sql(sqlite_table, sqlite_connection, if_exists='fail')\n",
    "\n"
   ]
  },
  {
   "cell_type": "code",
   "execution_count": 23,
   "metadata": {},
   "outputs": [],
   "source": [
    "sqlite_connection.close()"
   ]
  },
  {
   "cell_type": "code",
   "execution_count": null,
   "metadata": {},
   "outputs": [],
   "source": []
  }
 ],
 "metadata": {
  "kernelspec": {
   "display_name": "PythonData",
   "language": "python",
   "name": "pythondata"
  },
  "language_info": {
   "codemirror_mode": {
    "name": "ipython",
    "version": 3
   },
   "file_extension": ".py",
   "mimetype": "text/x-python",
   "name": "python",
   "nbconvert_exporter": "python",
   "pygments_lexer": "ipython3",
   "version": "3.7.6"
  }
 },
 "nbformat": 4,
 "nbformat_minor": 4
}
